{
 "cells": [
  {
   "cell_type": "code",
   "execution_count": 1,
   "metadata": {},
   "outputs": [],
   "source": [
    "import numpy as np\n",
    "from scipy import stats\n",
    "\n",
    "import plotly.offline as py\n",
    "import plotly.graph_objs as go"
   ]
  },
  {
   "cell_type": "code",
   "execution_count": 171,
   "metadata": {},
   "outputs": [],
   "source": [
    "# Plot layout\n",
    "layout = go.Layout(\n",
    "\tscene = dict(\n",
    "    \tcamera = dict(\n",
    "        \tup=dict(x=0, y=0, z=1),\n",
    "        \tcenter=dict(x=0, y=0, z=0),\n",
    "        \teye=dict(x=1.8, y=0, z=0.1)\n",
    "    \t),\n",
    "    \txaxis = dict(\n",
    "        \ttitle='',\n",
    "        \tshowgrid=False,\n",
    "        \tzeroline=False,\n",
    "        \tmirror=False,\n",
    "        \tshowline=False,\n",
    "        \tticks='',\n",
    "        \tshowticklabels=False\n",
    "    \t),\n",
    "    \tyaxis = dict(\n",
    "        \ttitle='',\n",
    "        \tshowgrid=False,\n",
    "        \tzeroline=False,\n",
    "        \tmirror=False,\n",
    "        \tshowline=False,\n",
    "        \tticks='',\n",
    "        \tshowticklabels=False\n",
    "    \t),\n",
    "    \tzaxis = dict(\n",
    "        \ttitle='',\n",
    "        \tshowgrid=False,\n",
    "        \tzeroline=False,\n",
    "        \tshowline=False,\n",
    "        \tticks='',\n",
    "        \tshowticklabels=False\n",
    "    \t)\n",
    "\t)\n",
    ")"
   ]
  },
  {
   "cell_type": "code",
   "execution_count": 172,
   "metadata": {},
   "outputs": [],
   "source": [
    "# from colour import Color\n",
    "\n",
    "# # Define some colors\n",
    "# black = Color(\"black\")\n",
    "# white = Color(\"white\")\n",
    "# green = Color(\"green\")\n",
    "\n",
    "# # Steps in each portion of gradient\n",
    "# steps1 = 3\n",
    "# steps2 = 3\n",
    "\n",
    "# # Use to normalize gradient to 1\n",
    "# denom = (slices1 + slices2) - 2\n",
    "\n",
    "# # Starting color gradient\n",
    "# start = list(black.range_to(white, slices1))\n",
    "# start\n",
    "\n",
    "# # Ending color gradient\n",
    "# end = list(white.range_to(green, slices2))\n",
    "# end\n",
    "\n",
    "# # Concat, dropping extra color\n",
    "# colors = start + end[1:]\n",
    "\n",
    "# # Initialize list\n",
    "# color_gradient = []\n",
    "\n",
    "# # Print out list of lists assigning color to normalized values\n",
    "# for i in range(0, len(colors)):\n",
    "#     working = [i/denom] + [Color(colors[i]).hex]\n",
    "#     color_gradient.append(working)\n",
    "\n",
    "# # Check that it has colors and goes from 0 to 1\n",
    "# color_gradient"
   ]
  },
  {
   "cell_type": "code",
   "execution_count": 466,
   "metadata": {},
   "outputs": [],
   "source": [
    "n = 100\n",
    "\n",
    "r = 10\n",
    "x = np.linspace(-1.8, 1.8, n)\n",
    "y = np.linspace(-1.8, 1.8, n)\n",
    "\n",
    "X, Y = np.meshgrid(x, y)\n",
    "\n",
    "XY = np.empty((n * n, 2))\n",
    "XY[:, 0] = X.flatten()\n",
    "XY[:, 1] = Y.flatten()\n",
    "\n",
    "# Z_native\n",
    "cov = np.array([[0.08, 0.002],\n",
    "               [0.005, 0.08]])\n",
    "dist = stats.multivariate_normal(np.array([0.5, -1.3]), cov)\n",
    "Z_native = dist.pdf(XY).reshape((n, n)) * 0.8\n",
    "\n",
    "cov = np.eye(2) * 0.2\n",
    "dist = stats.multivariate_normal(np.array([-0.6, -0.6]), cov)\n",
    "Z_native += dist.pdf(XY).reshape((n, n)) * 0.3\n",
    "\n",
    "cov = np.array([[0.05, 0.002],\n",
    "               [0.003, 0.05]])\n",
    "dist = stats.multivariate_normal(np.array([-0.5, -1.0]), cov)\n",
    "Z_native += dist.pdf(XY).reshape((n, n)) * 0.15\n",
    "\n",
    "#-------------------------------------------------------------------------\n",
    "\n",
    "# Z_new\n",
    "cov = np.eye(2) * 0.1\n",
    "dist = stats.multivariate_normal(np.array([-1.2, 1.2]), cov)\n",
    "Z_new = dist.pdf(XY).reshape((n, n)) * 1\n",
    "\n",
    "cov = np.eye(2) * 0.1\n",
    "dist = stats.multivariate_normal(np.array([-0.3, 0.7]), cov)\n",
    "Z_new += dist.pdf(XY).reshape((n, n)) * 0.6\n",
    "\n",
    "cov = np.eye(2) * 0.10\n",
    "dist = stats.multivariate_normal(np.array([0.52, 0.34]), cov)\n",
    "Z_new += dist.pdf(XY).reshape((n, n)) * 0.4\n",
    "\n",
    "cov = np.eye(2) * 0.06\n",
    "dist = stats.multivariate_normal(np.array([0.5, -0.4]), cov)\n",
    "Z_new += dist.pdf(XY).reshape((n, n)) * 0.12\n",
    "\n",
    "cov = np.eye(2) * 0.09\n",
    "dist = stats.multivariate_normal(np.array([1.0, -0.8]), cov)\n",
    "Z_new += dist.pdf(XY).reshape((n, n)) * 0.15\n",
    "\n",
    "# If spatially separated\n",
    "#Z_native += 2"
   ]
  },
  {
   "cell_type": "code",
   "execution_count": 473,
   "metadata": {},
   "outputs": [
    {
     "data": {
      "text/plain": [
       "'file:///Users/Patrick/git/fitness_landscape/for_Frances_bg.html'"
      ]
     },
     "execution_count": 473,
     "metadata": {},
     "output_type": "execute_result"
    }
   ],
   "source": [
    "# Some simple black to color gradients\n",
    "greens = [[0, '#111811'], [0.02, '#113311'], [1.0, '#70CC00']]\n",
    "blues = [[0, '#111118'], [0.02, '#111133'], [1.0, '#0090FF']]\n",
    "oranges = [[0, '#222222'], [0.02, '#666666'], [1.0, '#DC6600']]\n",
    "\n",
    "# Check the plot\n",
    "data = [\n",
    "    go.Surface(z=Z_native, opacity=1, colorscale=blues),\n",
    "    go.Surface(z=Z_new, opacity=1, colorscale=greens)\n",
    "]\n",
    "\n",
    "fig = go.Figure(data=data, layout=layout)\n",
    "\n",
    "py.plot(fig, filename='for_Frances_bg.html')"
   ]
  },
  {
   "cell_type": "code",
   "execution_count": 363,
   "metadata": {},
   "outputs": [
    {
     "data": {
      "text/plain": [
       "(620, 570)"
      ]
     },
     "execution_count": 363,
     "metadata": {},
     "output_type": "execute_result"
    }
   ],
   "source": [
    "# For screenshot\n",
    "400, 260; 620, 570"
   ]
  },
  {
   "cell_type": "code",
   "execution_count": null,
   "metadata": {},
   "outputs": [],
   "source": []
  }
 ],
 "metadata": {
  "kernelspec": {
   "display_name": "Python 3",
   "language": "python",
   "name": "python3"
  },
  "language_info": {
   "codemirror_mode": {
    "name": "ipython",
    "version": 3
   },
   "file_extension": ".py",
   "mimetype": "text/x-python",
   "name": "python",
   "nbconvert_exporter": "python",
   "pygments_lexer": "ipython3",
   "version": "3.7.0"
  }
 },
 "nbformat": 4,
 "nbformat_minor": 2
}
