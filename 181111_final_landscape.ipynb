{
 "cells": [
  {
   "cell_type": "code",
   "execution_count": 1,
   "metadata": {},
   "outputs": [],
   "source": [
    "import numpy as np\n",
    "from scipy import stats\n",
    "\n",
    "import plotly.offline as py\n",
    "import plotly.graph_objs as go"
   ]
  },
  {
   "cell_type": "code",
   "execution_count": 2,
   "metadata": {},
   "outputs": [],
   "source": [
    "# Plot layout\n",
    "layout = go.Layout(\n",
    "\tscene = dict(\n",
    "    \tcamera = dict(\n",
    "        \tup=dict(x=0, y=0, z=1),\n",
    "        \tcenter=dict(x=0, y=0, z=0),\n",
    "        \teye=dict(x=1.8, y=0, z=0.1)\n",
    "    \t),\n",
    "    \txaxis = dict(\n",
    "        \ttitle='',\n",
    "        \tshowgrid=False,\n",
    "        \tzeroline=False,\n",
    "        \tmirror=False,\n",
    "        \tshowline=False,\n",
    "        \tticks='',\n",
    "        \tshowticklabels=False\n",
    "    \t),\n",
    "    \tyaxis = dict(\n",
    "        \ttitle='',\n",
    "        \tshowgrid=False,\n",
    "        \tzeroline=False,\n",
    "        \tmirror=False,\n",
    "        \tshowline=False,\n",
    "        \tticks='',\n",
    "        \tshowticklabels=False\n",
    "    \t),\n",
    "    \tzaxis = dict(\n",
    "        \ttitle='',\n",
    "        \tshowgrid=False,\n",
    "        \tzeroline=False,\n",
    "        \tshowline=False,\n",
    "        \tticks='',\n",
    "        \tshowticklabels=False\n",
    "    \t)\n",
    "\t)\n",
    ")"
   ]
  },
  {
   "cell_type": "code",
   "execution_count": 68,
   "metadata": {},
   "outputs": [],
   "source": [
    "n = 100\n",
    "\n",
    "r = 10\n",
    "x = np.linspace(-1.8, 1.8, n)\n",
    "y = np.linspace(-1.8, 1.8, n)\n",
    "\n",
    "X, Y = np.meshgrid(x, y)\n",
    "\n",
    "XY = np.empty((n * n, 2))\n",
    "XY[:, 0] = X.flatten()\n",
    "XY[:, 1] = Y.flatten()\n",
    "\n",
    "#------------------------------------------------------------------------\n",
    "\n",
    "# Z_native\n",
    "cov = np.array([[0.08, 0.002],\n",
    "               [0.005, 0.08]])\n",
    "dist = stats.multivariate_normal(np.array([0.5, -1.3]), cov)\n",
    "Z_native = dist.pdf(XY).reshape((n, n)) * 0.8\n",
    "\n",
    "cov = np.eye(2) * 0.2\n",
    "dist = stats.multivariate_normal(np.array([-0.6, -0.6]), cov)\n",
    "Z_native += dist.pdf(XY).reshape((n, n)) * 0.3\n",
    "\n",
    "cov = np.array([[0.05, 0.002],\n",
    "               [0.003, 0.05]])\n",
    "dist = stats.multivariate_normal(np.array([-0.5, -1.0]), cov)\n",
    "Z_native += dist.pdf(XY).reshape((n, n)) * 0.15\n",
    "\n",
    "#-------------------------------------------------------------------------\n",
    "\n",
    "# Z_new\n",
    "cov = np.eye(2) * 0.1\n",
    "dist = stats.multivariate_normal(np.array([-1.2, 1.2]), cov)\n",
    "Z_new = dist.pdf(XY).reshape((n, n)) * 1\n",
    "\n",
    "cov = np.eye(2) * 0.1\n",
    "dist = stats.multivariate_normal(np.array([-0.3, 0.7]), cov)\n",
    "Z_new += dist.pdf(XY).reshape((n, n)) * 0.6\n",
    "\n",
    "cov = np.eye(2) * 0.10\n",
    "dist = stats.multivariate_normal(np.array([0.52, 0.34]), cov)\n",
    "Z_new += dist.pdf(XY).reshape((n, n)) * 0.4\n",
    "\n",
    "cov = np.eye(2) * 0.06\n",
    "dist = stats.multivariate_normal(np.array([0.5, -0.4]), cov)\n",
    "Z_new += dist.pdf(XY).reshape((n, n)) * 0.12\n",
    "\n",
    "cov = np.eye(2) * 0.09\n",
    "dist = stats.multivariate_normal(np.array([1.0, -0.8]), cov)\n",
    "Z_new += dist.pdf(XY).reshape((n, n)) * 0.15\n",
    "\n",
    "# If spatially separated\n",
    "#Z_native += 2"
   ]
  },
  {
   "cell_type": "code",
   "execution_count": 78,
   "metadata": {},
   "outputs": [
    {
     "data": {
      "text/plain": [
       "'file:///Users/Patrick/git/fitness_landscape/final_landscape.html'"
      ]
     },
     "execution_count": 78,
     "metadata": {},
     "output_type": "execute_result"
    }
   ],
   "source": [
    "# Some simple black to color gradients:\n",
    "\n",
    "# Blue used in native protein: #3273BB\n",
    "blues = [[0, '#111118'], [0.02, '#111133'], [1.0, '#0090FF']]\n",
    "# Red used in evolved protein: ##A01F1D\n",
    "reds = [[0, '#181111'], [0.02, '#331111'], [1.0, '#B01F1D']]\n",
    "\n",
    "#greens = [[0, '#111811'], [0.02, '#113311'], [1.0, '#70CC00']]\n",
    "#oranges = [[0, '#222222'], [0.02, '#666666'], [1.0, '#DC6600']]\n",
    "\n",
    "\n",
    "# Check the plot\n",
    "data = [\n",
    "    go.Surface(z=Z_native, opacity=1, colorscale=blues),\n",
    "    go.Surface(z=Z_new, opacity=1, colorscale=reds)\n",
    "]\n",
    "\n",
    "fig = go.Figure(data=data, layout=layout)\n",
    "\n",
    "py.plot(fig, filename='final_landscape.html')"
   ]
  },
  {
   "cell_type": "code",
   "execution_count": 85,
   "metadata": {},
   "outputs": [
    {
     "data": {
      "text/plain": [
       "array([[1.37592766e-02, 1.37592766e-02, 1.37592766e-02, ...,\n",
       "        1.37592766e-02, 1.37592766e-02, 1.37592766e-02],\n",
       "       [1.25330637e-02, 1.25330637e-02, 1.25330637e-02, ...,\n",
       "        1.25330637e-02, 1.25330637e-02, 1.25330637e-02],\n",
       "       [1.10664385e-02, 1.10664385e-02, 1.10664385e-02, ...,\n",
       "        1.10664385e-02, 1.10664385e-02, 1.10664385e-02],\n",
       "       ...,\n",
       "       [8.58793242e-09, 1.06465303e-08, 1.31116154e-08, ...,\n",
       "        4.13795835e-13, 2.70136239e-13, 1.75189557e-13],\n",
       "       [5.60641641e-09, 6.95032043e-09, 8.55958943e-09, ...,\n",
       "        2.70136239e-13, 1.76351672e-13, 1.14368111e-13],\n",
       "       [3.63588984e-09, 4.50744246e-09, 5.55109039e-09, ...,\n",
       "        1.75189557e-13, 1.14368111e-13, 7.41703472e-14]])"
      ]
     },
     "execution_count": 85,
     "metadata": {},
     "output_type": "execute_result"
    }
   ],
   "source": [
    "# Try to find intersection\n",
    "\n",
    "intersect = np.empty_like(Z_native)\n",
    "\n",
    "for x in range(len(Z_native[0])):\n",
    "    for value in Z_native[x, :]:\n",
    "        if value >= 0.01:\n",
    "            thresh_up = value * 1.05\n",
    "            thresh_low = value * 0.95\n",
    "            \n",
    "            if (value <= thresh_up) and (value >= thresh_low):\n",
    "                intersect[x] = value # this does the whole column... need to adjust\n",
    "            else:\n",
    "                intersect[x] = 0\n",
    "                \n",
    "intersect"
   ]
  },
  {
   "cell_type": "code",
   "execution_count": 87,
   "metadata": {},
   "outputs": [
    {
     "data": {
      "text/plain": [
       "'file:///Users/Patrick/git/fitness_landscape/test.html'"
      ]
     },
     "execution_count": 87,
     "metadata": {},
     "output_type": "execute_result"
    }
   ],
   "source": [
    "# test\n",
    "test = [[0, '#000000'], [0.001, '#DC6600'], [1.0, '#DC6600']]\n",
    "\n",
    "data = [\n",
    "    go.Surface(z=Z_native, opacity=0.5, colorscale=blues),\n",
    "    go.Surface(z=Z_new, opacity=0.5, colorscale=reds),\n",
    "    go.Surface(z=intersect, opacity=1, colorscale=test)\n",
    "]\n",
    "\n",
    "fig = go.Figure(data=data, layout=layout)\n",
    "\n",
    "py.plot(fig, filename='test.html')"
   ]
  },
  {
   "cell_type": "code",
   "execution_count": null,
   "metadata": {},
   "outputs": [],
   "source": [
    "# For screenshot: 400, 260; 620, 570"
   ]
  }
 ],
 "metadata": {
  "kernelspec": {
   "display_name": "Python 3",
   "language": "python",
   "name": "python3"
  },
  "language_info": {
   "codemirror_mode": {
    "name": "ipython",
    "version": 3
   },
   "file_extension": ".py",
   "mimetype": "text/x-python",
   "name": "python",
   "nbconvert_exporter": "python",
   "pygments_lexer": "ipython3",
   "version": "3.7.0"
  }
 },
 "nbformat": 4,
 "nbformat_minor": 2
}
