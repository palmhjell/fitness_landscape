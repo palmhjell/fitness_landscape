{
 "cells": [
  {
   "cell_type": "code",
   "execution_count": 92,
   "metadata": {},
   "outputs": [],
   "source": [
    "import numpy as np\n",
    "from scipy import stats\n",
    "\n",
    "import plotly.offline as py\n",
    "import plotly.graph_objs as go"
   ]
  },
  {
   "cell_type": "code",
   "execution_count": 118,
   "metadata": {},
   "outputs": [],
   "source": [
    "# Plot layout\n",
    "layout = go.Layout(\n",
    "    scene = dict(\n",
    "        camera = dict(\n",
    "            up=dict(x=0, y=0, z=1),\n",
    "            center=dict(x=0, y=0, z=0),\n",
    "            eye=dict(x=1.8, y=0, z=-0.45)\n",
    "        ),\n",
    "        xaxis = dict(\n",
    "            title='',\n",
    "            showgrid=False,\n",
    "            zeroline=False,\n",
    "            mirror=False,\n",
    "            showline=False,\n",
    "            ticks='',\n",
    "            showticklabels=False\n",
    "        ),\n",
    "        yaxis = dict(\n",
    "            title='',\n",
    "            showgrid=False,\n",
    "            zeroline=False,\n",
    "            mirror=False,\n",
    "            showline=False,\n",
    "            ticks='',\n",
    "            showticklabels=False\n",
    "        ),\n",
    "        zaxis = dict(\n",
    "            title='',\n",
    "            showgrid=False,\n",
    "            zeroline=False,\n",
    "            showline=False,\n",
    "            ticks='',\n",
    "            showticklabels=False\n",
    "        )\n",
    "    )\n",
    ")"
   ]
  },
  {
   "cell_type": "code",
   "execution_count": 119,
   "metadata": {},
   "outputs": [],
   "source": [
    "n = 300\n",
    "\n",
    "x = np.linspace(-1.8, 1.8, n)\n",
    "y = np.linspace(-1.8, 1.8, n)\n",
    "\n",
    "X, Y = np.meshgrid(x, y)\n",
    "\n",
    "XY = np.empty((n * n, 2))\n",
    "XY[:, 0] = X.flatten()\n",
    "XY[:, 1] = Y.flatten()\n",
    "\n",
    "#------------------------------------------------------------------------\n",
    "\n",
    "# Z_native\n",
    "cov = np.array([[0.055, 0.002],\n",
    "               [0.005, 0.055]])\n",
    "dist = stats.multivariate_normal(np.array([0.5, -1.1]), cov)\n",
    "Z_native = dist.pdf(XY).reshape((n, n)) * 0.5\n",
    "\n",
    "# cov = np.array([[0.05, 0.002],\n",
    "#                [0.003, 0.05]])\n",
    "# dist = stats.multivariate_normal(np.array([-0.5, -0.8]), cov)\n",
    "# Z_native += dist.pdf(XY).reshape((n, n)) * 0.15\n",
    "\n",
    "# cov = np.eye(2) * 0.08\n",
    "# dist = stats.multivariate_normal(np.array([-0.6, -0.6]), cov)\n",
    "# Z_native += dist.pdf(XY).reshape((n, n)) * 0.15\n",
    "\n",
    "#-------------------------------------------------------------------------\n",
    "\n",
    "# Z_new\n",
    "cov = np.eye(2) * 0.06\n",
    "dist = stats.multivariate_normal(np.array([-0.98, 0.98]), cov)\n",
    "Z_new = dist.pdf(XY).reshape((n, n)) * 0.6\n",
    "\n",
    "cov = np.eye(2) * 0.12\n",
    "dist = stats.multivariate_normal(np.array([-0.3, 0.6]), cov)\n",
    "Z_new += dist.pdf(XY).reshape((n, n)) * 0.6\n",
    "\n",
    "cov = np.eye(2) * 0.12\n",
    "dist = stats.multivariate_normal(np.array([0.5, 0.2]), cov)\n",
    "Z_new += dist.pdf(XY).reshape((n, n)) * 0.3\n",
    "\n",
    "cov = np.eye(2) * 0.1\n",
    "dist = stats.multivariate_normal(np.array([0.9, -0.6]), cov)\n",
    "Z_new += dist.pdf(XY).reshape((n, n)) * 0.15"
   ]
  },
  {
   "cell_type": "code",
   "execution_count": 120,
   "metadata": {},
   "outputs": [
    {
     "data": {
      "text/plain": [
       "array([[nan, nan, nan, ..., nan, nan, nan],\n",
       "       [nan, nan, nan, ..., nan, nan, nan],\n",
       "       [nan, nan, nan, ..., nan, nan, nan],\n",
       "       ...,\n",
       "       [nan, nan, nan, ..., nan, nan, nan],\n",
       "       [nan, nan, nan, ..., nan, nan, nan],\n",
       "       [nan, nan, nan, ..., nan, nan, nan]])"
      ]
     },
     "execution_count": 120,
     "metadata": {},
     "output_type": "execute_result"
    }
   ],
   "source": [
    "promisc = np.empty_like(Z_native)\n",
    "\n",
    "for i in range(len(Z_native[0, :])):\n",
    "    for j in range(len(Z_native[:, 0])):\n",
    "        if (Z_native[i, j] >= 0.005) and (Z_new[i, j] >= 0.005):\n",
    "        \n",
    "            if Z_native[i, j] >= Z_new[i, j]:\n",
    "                promisc[i, j] = Z_new[i, j]*0.99\n",
    "            else:\n",
    "                promisc[i, j] = Z_native[i, j]#*0.99\n",
    "        else:\n",
    "            promisc[i, j] = None\n",
    "\n",
    "promisc"
   ]
  },
  {
   "cell_type": "code",
   "execution_count": 129,
   "metadata": {},
   "outputs": [],
   "source": [
    "# Blue used in native protein: #3273BB\n",
    "blues = [[0, '#222277'], [1.0, '#3273CB']]\n",
    "# Red used in evolved protein: #A01F1D\n",
    "reds = [[0, '#772222'], [1.0, '#C01F1D']]\n",
    "# promisc\n",
    "c_promisc = [[0, '#111100'], [0.2, '#FFFF00'], [1.0, '#FFFF00']]\n",
    "\n",
    "\n",
    "# Lighting\n",
    "lighting = dict(ambient=0.5, diffuse=1, specular=0.2, roughness=0.5)"
   ]
  },
  {
   "cell_type": "code",
   "execution_count": 134,
   "metadata": {},
   "outputs": [
    {
     "data": {
      "text/plain": [
       "'file:///Users/Patrick/git/fitness_landscape/final_landscape.html'"
      ]
     },
     "execution_count": 134,
     "metadata": {},
     "output_type": "execute_result"
    }
   ],
   "source": [
    "data = [\n",
    "    go.Surface(z=Z_native, opacity=0, colorscale=blues, lighting=lighting),\n",
    "    go.Surface(z=Z_new, opacity=1, colorscale=reds, lighting=lighting)\n",
    "]\n",
    "\n",
    "fig = go.Figure(data=data, layout=layout)\n",
    "\n",
    "py.plot(fig, filename='final_landscape.html')"
   ]
  },
  {
   "cell_type": "code",
   "execution_count": 132,
   "metadata": {},
   "outputs": [
    {
     "data": {
      "text/plain": [
       "'file:///Users/Patrick/git/fitness_landscape/final_landscape_with_rop.html'"
      ]
     },
     "execution_count": 132,
     "metadata": {},
     "output_type": "execute_result"
    }
   ],
   "source": [
    "# Bad rendering with transparency\n",
    "\n",
    "# data = [\n",
    "#     go.Surface(z=Z_native, opacity=0.92, colorscale=blues, lighting=lighting),\n",
    "#     go.Surface(z=Z_new, opacity=0.92, colorscale=reds, lighting=lighting),\n",
    "#     go.Surface(z=promisc, opacity=1, colorscale=c_promisc, lighting=dict(ambient=1, specular=0))\n",
    "# ]\n",
    "\n",
    "# fig = go.Figure(data=data, layout=layout)\n",
    "\n",
    "# py.plot(fig, filename='final_landscape_with_rop.html')"
   ]
  },
  {
   "cell_type": "code",
   "execution_count": 131,
   "metadata": {},
   "outputs": [
    {
     "data": {
      "text/plain": [
       "'file:///Users/Patrick/git/fitness_landscape/region_of_promisc_overlay.html'"
      ]
     },
     "execution_count": 131,
     "metadata": {},
     "output_type": "execute_result"
    }
   ],
   "source": [
    "data = [\n",
    "    go.Surface(z=Z_native, opacity=0, colorscale=blues, lighting=lighting),\n",
    "    go.Surface(z=Z_new, opacity=0, colorscale=reds, lighting=lighting),\n",
    "    go.Surface(z=promisc, opacity=0.6, colorscale=c_promisc, lighting=dict(ambient=1, specular=0))\n",
    "]\n",
    "\n",
    "fig = go.Figure(data=data, layout=layout)\n",
    "\n",
    "py.plot(fig, filename='region_of_promisc_overlay.html')"
   ]
  },
  {
   "cell_type": "code",
   "execution_count": null,
   "metadata": {},
   "outputs": [],
   "source": [
    "# Screenshot: 420, 720; 550, 400"
   ]
  }
 ],
 "metadata": {
  "kernelspec": {
   "display_name": "Python 3",
   "language": "python",
   "name": "python3"
  },
  "language_info": {
   "codemirror_mode": {
    "name": "ipython",
    "version": 3
   },
   "file_extension": ".py",
   "mimetype": "text/x-python",
   "name": "python",
   "nbconvert_exporter": "python",
   "pygments_lexer": "ipython3",
   "version": "3.7.0"
  }
 },
 "nbformat": 4,
 "nbformat_minor": 2
}
