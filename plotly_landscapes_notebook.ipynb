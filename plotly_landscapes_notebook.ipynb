{
 "cells": [
  {
   "cell_type": "code",
   "execution_count": 2,
   "metadata": {},
   "outputs": [],
   "source": [
    "import numpy as np\n",
    "from scipy import stats\n",
    "\n",
    "import plotly.offline as py\n",
    "import plotly.graph_objs as go"
   ]
  },
  {
   "cell_type": "markdown",
   "metadata": {},
   "source": [
    "## Plotting settings"
   ]
  },
  {
   "cell_type": "code",
   "execution_count": 3,
   "metadata": {},
   "outputs": [],
   "source": [
    "# Colors\n",
    "color_scale1 = 'Greens'\n",
    "color_scale2 = 'Greys'\n",
    "\n",
    "# Plot layout\n",
    "layout = go.Layout(\n",
    "\tscene = dict(\n",
    "    \tcamera = dict(\n",
    "        \tup=dict(x=0, y=0, z=1),\n",
    "        \tcenter=dict(x=0, y=0, z=0),\n",
    "        \teye=dict(x=0, y=-1.8, z=0.1)\n",
    "    \t),\n",
    "    \txaxis = dict(\n",
    "        \ttitle='',\n",
    "        \tshowgrid=False,\n",
    "        \tzeroline=False,\n",
    "        \tmirror=False,\n",
    "        \tshowline=False,\n",
    "        \tticks='',\n",
    "        \tshowticklabels=False\n",
    "    \t),\n",
    "    \tyaxis = dict(\n",
    "        \ttitle='',\n",
    "        \tshowgrid=False,\n",
    "        \tzeroline=False,\n",
    "        \tmirror=False,\n",
    "        \tshowline=False,\n",
    "        \tticks='',\n",
    "        \tshowticklabels=False\n",
    "    \t),\n",
    "    \tzaxis = dict(\n",
    "        \ttitle='',\n",
    "        \tshowgrid=False,\n",
    "        \tzeroline=False,\n",
    "        \tshowline=False,\n",
    "        \tticks='',\n",
    "        \tshowticklabels=False\n",
    "    \t)\n",
    "\t)\n",
    ")"
   ]
  },
  {
   "cell_type": "markdown",
   "metadata": {},
   "source": [
    "## Two landscapes"
   ]
  },
  {
   "cell_type": "code",
   "execution_count": 5,
   "metadata": {},
   "outputs": [],
   "source": [
    "n = 100\n",
    "\n",
    "r = 10\n",
    "x = np.linspace(-1.8, 1.8, n)\n",
    "y = np.linspace(-1.8, 1.8, n)\n",
    "\n",
    "X, Y = np.meshgrid(x, y)\n",
    "\n",
    "XY = np.empty((n * n, 2))\n",
    "XY[:, 0] = X.flatten()\n",
    "XY[:, 1] = Y.flatten()\n",
    "\n",
    "# Z1\n",
    "cov = np.eye(2) * 0.2\n",
    "dist = stats.multivariate_normal(np.array([-0.6, -0.6]), cov)\n",
    "Z1 = dist.pdf(XY).reshape((n, n))\n",
    "\n",
    "cov = np.eye(2) * 0.2\n",
    "dist = stats.multivariate_normal(np.array([0.6, 0.6]), cov)\n",
    "Z1 += dist.pdf(XY).reshape((n, n))\n",
    "\n",
    "cov = np.array([[0.1, 0.002],\n",
    "               [0.005, 0.1]])\n",
    "dist = stats.multivariate_normal(np.array([0.5, -0.5]), cov)\n",
    "Z1 += dist.pdf(XY).reshape((n, n)) * 1\n",
    "\n",
    "cov = np.array([[0.05, 0.002],\n",
    "               [0.003, 0.05]])\n",
    "dist = stats.multivariate_normal(np.array([-0.5, -1.0]), cov)\n",
    "Z1 += dist.pdf(XY).reshape((n, n)) * 0.15\n",
    "\n",
    "# Z2\n",
    "cov = np.eye(2) * 0.2\n",
    "dist = stats.multivariate_normal(np.array([0.6, -0.6]), cov)\n",
    "Z2 = dist.pdf(XY).reshape((n, n))\n",
    "\n",
    "cov = np.eye(2) * 0.2\n",
    "dist = stats.multivariate_normal(np.array([-0.6, 0.6]), cov)\n",
    "Z2 += dist.pdf(XY).reshape((n, n))\n",
    "\n",
    "cov = np.array([[0.1, 0.005],\n",
    "               [0.002, 0.1]])\n",
    "dist = stats.multivariate_normal(np.array([-0.5, 0.5]), cov)\n",
    "Z2 += dist.pdf(XY).reshape((n, n)) * 0.6\n",
    "\n",
    "cov = np.array([[0.05, 0.004],\n",
    "               [0.004, 0.05]])\n",
    "dist = stats.multivariate_normal(np.array([0.5, 1.0]), cov)\n",
    "Z2 += dist.pdf(XY).reshape((n, n)) * 0.3\n",
    "\n",
    "#Z2 += 2.5"
   ]
  },
  {
   "cell_type": "markdown",
   "metadata": {},
   "source": [
    "## Complex peak"
   ]
  },
  {
   "cell_type": "code",
   "execution_count": 6,
   "metadata": {},
   "outputs": [],
   "source": [
    "n = 100\n",
    "\n",
    "r = 1\n",
    "x = np.linspace(-1.4, 1.4, n)\n",
    "y = np.linspace(-1.4, 1.4, n)\n",
    "X, Y = np.meshgrid(x, y)\n",
    "\n",
    "\n",
    "XY = np.empty((n * n, 2))\n",
    "XY[:, 0] = X.flatten()\n",
    "XY[:, 1] = Y.flatten()\n",
    "\n",
    "cov = np.eye(2) * 0.2\n",
    "dist = stats.multivariate_normal(np.zeros(2), cov)\n",
    "Z_complex = dist.pdf(XY).reshape((n, n))\n",
    "\n",
    "cov = np.array([[0.01, 0.002],\n",
    "               [0.005, 0.01]])\n",
    "dist = stats.multivariate_normal(np.array([-0.5, -0.2]), cov)\n",
    "Z_complex += dist.pdf(XY).reshape((n, n)) * 0.01\n",
    "\n",
    "cov = np.array([[0.01, 0.002],\n",
    "               [0.003, 0.01]])\n",
    "dist = stats.multivariate_normal(np.array([0.7, 0.2]), cov)\n",
    "Z_complex += dist.pdf(XY).reshape((n, n)) * 0.015\n",
    "\n",
    "cov = np.array([[0.01, 0.002],\n",
    "               [0.003, 0.01]])\n",
    "dist = stats.multivariate_normal(np.array([0.35, 0.1]), cov)\n",
    "Z_complex += dist.pdf(XY).reshape((n, n)) * 0.005\n",
    "\n",
    "cov = np.array([[0.01, 0.002],\n",
    "               [0.003, 0.02]])\n",
    "dist = stats.multivariate_normal(np.array([0.9, -0.8]), cov)\n",
    "Z_complex += dist.pdf(XY).reshape((n, n)) * 0.02\n",
    "\n",
    "cov = np.array([[0.02, 0.002],\n",
    "               [0.003, 0.01]])\n",
    "dist = stats.multivariate_normal(np.array([0.6, -0.3]), cov)\n",
    "Z_complex += dist.pdf(XY).reshape((n, n)) * 0.03\n",
    "\n",
    "cov = np.array([[0.01, 0.002],\n",
    "               [0.003, 0.01]])\n",
    "dist = stats.multivariate_normal(np.array([0., -0.8]), cov)\n",
    "Z_complex += dist.pdf(XY).reshape((n, n)) * 0.035"
   ]
  },
  {
   "cell_type": "markdown",
   "metadata": {},
   "source": [
    "## Do the plots"
   ]
  },
  {
   "cell_type": "code",
   "execution_count": 7,
   "metadata": {},
   "outputs": [],
   "source": [
    "# data = [\n",
    "#     go.Surface(z=Z1, opacity=1, colorscale=color_scale1, showscale=False, reversescale=True),\n",
    "#     go.Surface(z=Z2, opacity=1, colorscale=color_scale2, showscale=False, reversescale=True)\n",
    "# ]\n",
    "\n",
    "# fig = go.Figure(data=data, layout=layout)\n",
    "\n",
    "# py.plot(fig, filename='temp_landscape.html')"
   ]
  },
  {
   "cell_type": "code",
   "execution_count": 8,
   "metadata": {},
   "outputs": [
    {
     "data": {
      "text/plain": [
       "'file:///Users/Patrick/git/fitness_landscape/three_peak_landscape.html'"
      ]
     },
     "execution_count": 8,
     "metadata": {},
     "output_type": "execute_result"
    }
   ],
   "source": [
    "data = [\n",
    "    go.Surface(z=Z1, opacity=1, colorscale=color_scale1, showscale=False, reversescale=True)\n",
    "]\n",
    "\n",
    "fig = go.Figure(data=data, layout=layout)\n",
    "\n",
    "py.plot(fig, filename='three_peak_landscape.html')"
   ]
  },
  {
   "cell_type": "code",
   "execution_count": 9,
   "metadata": {},
   "outputs": [
    {
     "data": {
      "text/plain": [
       "'file:///Users/Patrick/git/fitness_landscape/complex_peak_landscape.html'"
      ]
     },
     "execution_count": 9,
     "metadata": {},
     "output_type": "execute_result"
    }
   ],
   "source": [
    "data = [\n",
    "    go.Surface(z=Z_complex, opacity=1, colorscale=color_scale1, showscale=False, reversescale=True)\n",
    "]\n",
    "\n",
    "fig = go.Figure(data=data, layout=layout)\n",
    "\n",
    "py.plot(fig, filename='complex_peak_landscape.html')"
   ]
  },
  {
   "cell_type": "code",
   "execution_count": null,
   "metadata": {},
   "outputs": [],
   "source": []
  }
 ],
 "metadata": {
  "kernelspec": {
   "display_name": "Python 3",
   "language": "python",
   "name": "python3"
  },
  "language_info": {
   "codemirror_mode": {
    "name": "ipython",
    "version": 3
   },
   "file_extension": ".py",
   "mimetype": "text/x-python",
   "name": "python",
   "nbconvert_exporter": "python",
   "pygments_lexer": "ipython3",
   "version": "3.7.0"
  }
 },
 "nbformat": 4,
 "nbformat_minor": 2
}
