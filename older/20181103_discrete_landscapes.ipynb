{
 "cells": [
  {
   "cell_type": "code",
   "execution_count": 13,
   "metadata": {},
   "outputs": [],
   "source": [
    "import numpy as np\n",
    "from scipy import stats\n",
    "\n",
    "import plotly.offline as py\n",
    "import plotly.graph_objs as go"
   ]
  },
  {
   "cell_type": "markdown",
   "metadata": {},
   "source": [
    "## Plotting settings"
   ]
  },
  {
   "cell_type": "code",
   "execution_count": 14,
   "metadata": {},
   "outputs": [],
   "source": [
    "# Colors\n",
    "color_scale1 = 'Greens'\n",
    "color_scale2 = 'Greys'\n",
    "\n",
    "# Plot layout\n",
    "layout = go.Layout(\n",
    "\tscene = dict(\n",
    "    \tcamera = dict(\n",
    "        \tup=dict(x=0, y=0, z=1),\n",
    "        \tcenter=dict(x=0, y=0, z=0),\n",
    "        \teye=dict(x=0, y=-1.8, z=0.1)\n",
    "    \t),\n",
    "    \txaxis = dict(\n",
    "        \ttitle='',\n",
    "        \tshowgrid=False,\n",
    "        \tzeroline=False,\n",
    "        \tmirror=False,\n",
    "        \tshowline=False,\n",
    "        \tticks='',\n",
    "        \tshowticklabels=False\n",
    "    \t),\n",
    "    \tyaxis = dict(\n",
    "        \ttitle='',\n",
    "        \tshowgrid=False,\n",
    "        \tzeroline=False,\n",
    "        \tmirror=False,\n",
    "        \tshowline=False,\n",
    "        \tticks='',\n",
    "        \tshowticklabels=False\n",
    "    \t),\n",
    "    \tzaxis = dict(\n",
    "        \ttitle='',\n",
    "        \tshowgrid=False,\n",
    "        \tzeroline=False,\n",
    "        \tshowline=False,\n",
    "        \tticks='',\n",
    "        \tshowticklabels=False\n",
    "    \t)\n",
    "\t)\n",
    ")"
   ]
  },
  {
   "cell_type": "markdown",
   "metadata": {},
   "source": [
    "## Smooth landscape"
   ]
  },
  {
   "cell_type": "code",
   "execution_count": 66,
   "metadata": {},
   "outputs": [],
   "source": [
    "n1 = 21\n",
    "n2 = 21\n",
    "\n",
    "x = np.arange(0, n1)\n",
    "y = np.arange(0, n2)\n",
    "\n",
    "X, Y = np.meshgrid(x, y)\n",
    "\n",
    "XY = np.empty((n2 * n1, 2))\n",
    "XY[:, 0] = X.flatten()\n",
    "XY[:, 1] = Y.flatten()\n",
    "XY = XY.astype(int)\n",
    "H = np.zeros((n1 * n2, n1 + n2))\n",
    "H[np.arange(n1 * n2), XY[:, 0]] = 1\n",
    "H[np.arange(n1 * n2), XY[:, 1] + n1] = 1\n",
    "\n",
    "np.random.seed(0)\n",
    "W = (list(range(11)) + list(range(10))[::-1]) * 2\n",
    "W = np.array(W).astype(float)\n",
    "W += np.random.random((n1 + n2))\n",
    "W = W[:, None]\n",
    "\n",
    "Z_add = (H @ W).reshape((n1, n2))"
   ]
  },
  {
   "cell_type": "markdown",
   "metadata": {},
   "source": [
    "## Do the plots"
   ]
  },
  {
   "cell_type": "code",
   "execution_count": 7,
   "metadata": {},
   "outputs": [],
   "source": [
    "# data = [\n",
    "#     go.Surface(z=Z1, opacity=1, colorscale=color_scale1, showscale=False, reversescale=True),\n",
    "#     go.Surface(z=Z2, opacity=1, colorscale=color_scale2, showscale=False, reversescale=True)\n",
    "# ]\n",
    "\n",
    "# fig = go.Figure(data=data, layout=layout)\n",
    "\n",
    "# py.plot(fig, filename='temp_landscape.html')"
   ]
  },
  {
   "cell_type": "code",
   "execution_count": 67,
   "metadata": {},
   "outputs": [
    {
     "data": {
      "text/plain": [
       "'file:///Users/kevinyang/Documents/git/fitness_landscape/additive_landscape.html'"
      ]
     },
     "execution_count": 67,
     "metadata": {},
     "output_type": "execute_result"
    }
   ],
   "source": [
    "data = [\n",
    "    go.Surface(z=Z_add, opacity=1, colorscale=color_scale1, showscale=False, reversescale=True)\n",
    "]\n",
    "\n",
    "fig = go.Figure(data=data, layout=layout)\n",
    "\n",
    "py.plot(fig, filename='additive_landscape.html')"
   ]
  },
  {
   "cell_type": "code",
   "execution_count": 4,
   "metadata": {},
   "outputs": [
    {
     "data": {
      "text/plain": [
       "'file:///Users/kevinyang/Documents/git/fitness_landscape/complex_peak_landscape.html'"
      ]
     },
     "execution_count": 4,
     "metadata": {},
     "output_type": "execute_result"
    }
   ],
   "source": [
    "data = [\n",
    "    go.Surface(z=Z_complex, opacity=1, colorscale=color_scale1, showscale=False, reversescale=True)\n",
    "]\n",
    "\n",
    "fig = go.Figure(data=data, layout=layout)\n",
    "\n",
    "py.plot(fig, filename='complex_peak_landscape.html')"
   ]
  },
  {
   "cell_type": "code",
   "execution_count": 9,
   "metadata": {},
   "outputs": [
    {
     "data": {
      "text/plain": [
       "'file:///Users/kevinyang/Documents/git/fitness_landscape/single_peak_landscape.html'"
      ]
     },
     "execution_count": 9,
     "metadata": {},
     "output_type": "execute_result"
    }
   ],
   "source": [
    "data = [\n",
    "    go.Surface(z=Z_single, opacity=1, colorscale=color_scale1, showscale=False, reversescale=True)\n",
    "]\n",
    "\n",
    "fig = go.Figure(data=data, layout=layout)\n",
    "\n",
    "py.plot(fig, filename='single_peak_landscape.html')"
   ]
  },
  {
   "cell_type": "code",
   "execution_count": 11,
   "metadata": {},
   "outputs": [
    {
     "data": {
      "text/plain": [
       "'file:///Users/kevinyang/Documents/git/fitness_landscape/rugged_peak_landscape.html'"
      ]
     },
     "execution_count": 11,
     "metadata": {},
     "output_type": "execute_result"
    }
   ],
   "source": [
    "data = [\n",
    "    go.Surface(z=Z_rugged, opacity=1, colorscale=color_scale1, showscale=False, reversescale=True)\n",
    "]\n",
    "\n",
    "fig = go.Figure(data=data, layout=layout)\n",
    "\n",
    "py.plot(fig, filename='rugged_peak_landscape.html')"
   ]
  },
  {
   "cell_type": "code",
   "execution_count": null,
   "metadata": {},
   "outputs": [],
   "source": []
  }
 ],
 "metadata": {
  "kernelspec": {
   "display_name": "Python [conda env:python37]",
   "language": "python",
   "name": "conda-env-python37-py"
  },
  "language_info": {
   "codemirror_mode": {
    "name": "ipython",
    "version": 3
   },
   "file_extension": ".py",
   "mimetype": "text/x-python",
   "name": "python",
   "nbconvert_exporter": "python",
   "pygments_lexer": "ipython3",
   "version": "3.6.6"
  }
 },
 "nbformat": 4,
 "nbformat_minor": 2
}
